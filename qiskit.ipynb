{
 "cells": [
  {
   "cell_type": "code",
   "execution_count": null,
   "id": "466a7ec6",
   "metadata": {},
   "outputs": [
    {
     "ename": "",
     "evalue": "",
     "output_type": "error",
     "traceback": [
      "\u001b[1;31mRunning cells with 'Python 3.9.13 64-bit' requires ipykernel package.\n",
      "\u001b[1;31mRun the following command to install 'ipykernel' into the Python environment. \n",
      "\u001b[1;31mCommand: '/usr/local/bin/python3 -m pip install ipykernel -U --user --force-reinstall'"
     ]
    }
   ],
   "source": [
    "%matplotlib inline\n",
    "# Importing standard Qiskit libraries and configuring account\n",
    "from qiskit import QuantumCircuit, execute, Aer, IBMQ\n",
    "from qiskit.compiler import transpile, assemble\n",
    "from qiskit.tools.jupyter import *\n",
    "from qiskit.visualization import *\n",
    "# Loading your IBM Q account(s)\n",
    "\n",
    "# Enter IBM API Key here >> IBMQ.save_account(\"\")\n",
    "provider = IBMQ.load_account()\n",
    "provider = IBMQ.get_provider(hub='ibm-q', group='open', project='main')"
   ]
  },
  {
   "cell_type": "code",
   "execution_count": null,
   "id": "7d97c0bc",
   "metadata": {},
   "outputs": [
    {
     "ename": "",
     "evalue": "",
     "output_type": "error",
     "traceback": [
      "\u001b[1;31mRunning cells with 'Python 3.9.13 64-bit' requires ipykernel package.\n",
      "\u001b[1;31mRun the following command to install 'ipykernel' into the Python environment. \n",
      "\u001b[1;31mCommand: '/usr/local/bin/python3 -m pip install ipykernel -U --user --force-reinstall'"
     ]
    }
   ],
   "source": [
    "qc = QuantumCircuit(4, 4)\n",
    "qc.h(0)\n",
    "qc.cx(0, 1)\n",
    "qc.cx(1, 2)\n",
    "qc.cx(2, 3)\n",
    "qc.measure([0, 1, 2, 3], [0, 1, 2, 3])\n",
    "qc.draw();"
   ]
  },
  {
   "cell_type": "code",
   "execution_count": 4,
   "id": "e8a781f6",
   "metadata": {},
   "outputs": [
    {
     "name": "stdout",
     "output_type": "stream",
     "text": [
      "ibmq_qasm_simulator supports memory to see invidual results.\n",
      "['0000', '1111', '1111', '1111', '0000', '0000', '0000', '0000', '0000', '1111', '0000', '0000', '0000', '0000', '1111', '1111', '1111', '1111', '1111', '0000', '1111', '1111', '1111', '0000', '1111', '0000', '0000', '1111', '0000', '1111', '1111', '0000', '1111', '1111', '1111', '0000', '1111', '0000', '0000', '1111', '0000', '1111', '1111', '0000', '0000', '0000', '1111', '0000', '1111', '1111', '1111', '0000', '0000', '0000', '1111', '0000', '1111', '1111', '1111', '1111', '0000', '0000', '1111', '1111', '1111', '1111', '1111', '0000', '0000', '1111', '0000', '0000', '0000', '0000', '1111', '0000', '1111', '1111', '0000', '1111', '1111', '0000', '1111', '0000', '0000', '0000', '1111', '0000', '0000', '1111', '0000', '1111', '0000', '1111', '0000', '0000', '1111', '1111', '1111', '0000', '0000', '1111', '0000', '0000', '0000', '0000', '0000', '1111', '0000', '0000', '0000', '1111', '1111', '1111', '1111', '0000', '0000', '1111', '0000', '0000', '1111', '1111', '0000', '0000', '0000', '1111', '0000', '0000', '1111', '1111', '1111', '0000', '0000', '0000', '1111', '0000', '0000', '0000', '0000', '0000', '0000', '0000', '0000', '0000', '1111', '0000', '1111', '1111', '0000', '0000', '1111', '1111', '1111', '0000', '0000', '0000', '1111', '0000', '0000', '0000', '1111', '0000', '1111', '0000', '1111', '0000', '0000', '0000', '0000', '0000', '1111', '0000', '0000', '0000', '1111', '0000', '1111', '0000', '1111', '0000', '1111', '0000', '0000', '1111', '1111', '1111', '0000', '1111', '0000', '0000', '1111', '0000', '1111', '0000', '1111', '0000', '1111', '0000', '1111', '1111', '1111', '0000', '0000', '0000', '0000', '0000', '1111', '1111', '0000', '1111', '1111', '0000', '1111', '0000', '1111', '1111', '1111', '1111', '0000', '1111', '0000', '0000', '0000', '0000', '0000', '0000', '1111', '0000', '1111', '1111', '1111', '1111', '0000', '0000', '1111', '1111', '0000', '0000', '0000', '1111', '1111', '1111', '1111', '1111', '1111', '0000', '0000', '0000', '1111', '0000', '1111', '1111', '1111', '1111', '0000', '0000', '0000', '0000', '1111', '0000', '1111', '1111', '0000', '1111', '1111', '0000', '1111', '1111', '1111', '0000', '0000', '0000', '0000', '0000', '1111', '0000', '1111', '0000', '0000', '0000', '1111', '0000', '1111', '1111', '1111', '0000', '1111', '0000', '1111', '1111', '1111', '0000', '0000', '0000', '1111', '1111', '1111', '1111', '0000', '1111', '0000', '0000', '0000', '1111', '0000', '0000', '1111', '0000', '1111', '0000', '1111', '1111', '0000', '1111', '1111', '1111', '1111', '0000', '0000', '1111', '0000', '1111', '0000', '1111', '0000', '1111', '1111', '0000', '0000', '1111', '0000', '0000', '0000', '1111', '0000', '0000', '0000', '1111', '0000', '0000', '1111', '0000', '1111', '0000', '0000', '0000', '0000', '0000', '0000', '1111', '0000', '1111', '0000', '0000', '0000', '0000', '0000', '0000', '1111', '0000', '1111', '1111', '1111', '0000', '0000', '0000', '1111', '1111', '1111', '1111', '1111', '1111', '0000', '0000', '0000', '0000', '1111', '0000', '1111', '0000', '0000', '1111', '1111', '0000', '0000', '1111', '0000', '0000', '0000', '1111', '0000', '0000', '0000', '1111', '1111', '1111', '0000', '1111', '0000', '1111', '0000', '1111', '1111', '0000', '1111', '1111', '0000', '1111', '1111', '0000', '1111', '0000', '0000', '0000', '0000', '1111', '0000', '0000', '0000', '1111', '0000', '1111', '0000', '1111', '0000', '1111', '1111', '0000', '0000', '1111', '0000', '0000', '0000', '0000', '0000', '0000', '1111', '1111', '1111', '1111', '0000', '1111', '0000', '1111', '1111', '0000', '1111', '0000', '0000', '1111', '0000', '0000', '1111', '1111', '0000', '0000', '1111', '0000', '0000', '0000', '1111', '0000', '0000', '1111', '0000', '0000', '0000', '0000', '0000', '0000', '1111', '1111', '0000', '0000', '1111', '1111', '1111', '0000', '1111', '0000', '1111', '1111', '1111', '0000', '0000', '0000', '1111', '1111', '1111', '0000', '1111', '1111', '0000', '1111', '0000', '1111', '1111', '1111', '1111', '1111', '0000', '1111', '0000', '1111', '0000', '0000', '0000', '0000', '1111', '1111', '1111', '1111', '0000', '0000', '1111', '1111', '1111', '0000', '0000', '0000', '1111', '1111', '0000', '0000', '0000', '0000', '0000', '1111', '0000', '0000', '0000', '0000', '1111', '1111', '0000', '0000', '0000', '1111', '1111', '1111', '0000', '0000', '0000', '1111', '1111', '0000', '1111', '0000', '0000', '1111', '1111', '0000', '0000', '0000', '1111', '0000', '0000', '0000', '1111', '0000', '1111', '0000', '0000', '0000', '0000', '0000', '0000', '1111', '1111', '1111', '1111', '1111', '0000', '0000', '0000', '0000', '1111', '1111', '1111', '0000', '1111', '0000', '0000', '1111', '1111', '1111', '0000', '0000', '1111', '1111', '1111', '1111', '0000', '1111', '0000', '0000', '1111', '0000', '0000', '1111', '0000', '1111', '0000', '1111', '1111', '0000', '1111', '0000', '1111', '1111', '1111', '1111', '0000', '1111', '0000', '1111', '1111', '0000', '1111', '1111', '0000', '1111', '0000', '0000', '1111', '1111', '1111', '0000', '0000', '0000', '0000', '1111', '0000', '1111', '1111', '1111', '0000', '0000', '0000', '0000', '0000', '1111', '0000', '0000', '0000', '1111', '0000', '0000', '1111', '0000', '1111', '1111', '0000', '1111', '0000', '1111', '0000', '0000', '0000', '1111', '0000', '1111', '0000', '0000', '1111', '0000', '0000', '0000', '0000', '1111', '0000', '0000', '0000', '1111', '0000', '1111', '1111', '0000', '1111', '0000', '1111', '1111', '1111', '0000', '1111', '0000', '0000', '0000', '1111', '1111', '1111', '1111', '1111', '1111', '0000', '0000', '0000', '0000', '1111', '1111', '1111', '1111', '0000', '1111', '1111', '0000', '1111', '0000', '1111', '1111', '1111', '0000', '0000', '1111', '0000', '0000', '1111', '1111', '1111', '0000', '1111', '1111', '0000', '1111', '1111', '0000', '1111', '1111', '1111', '0000', '0000', '1111', '0000', '1111', '0000', '1111', '1111', '1111', '1111', '1111', '0000', '1111', '0000', '0000', '0000', '1111', '1111', '0000', '0000', '1111', '1111', '1111', '0000', '0000', '1111', '0000', '1111', '1111', '0000', '0000', '0000', '0000', '0000', '0000', '1111', '1111', '1111', '1111', '0000', '0000', '1111', '1111', '1111', '1111', '1111', '1111', '1111', '1111', '0000', '1111', '1111', '1111', '1111', '1111', '1111', '0000', '1111', '1111', '0000', '0000', '0000', '1111', '1111', '1111', '0000', '1111', '0000', '1111', '0000', '0000', '0000', '1111', '1111', '1111', '1111', '1111', '0000', '0000', '1111', '1111', '1111', '0000', '0000', '0000', '1111', '1111', '1111', '1111', '0000', '1111', '0000', '0000', '0000', '1111', '0000', '1111', '1111', '1111', '0000', '0000', '0000', '0000', '0000', '0000', '1111', '0000', '0000', '0000', '0000', '1111', '1111', '0000', '1111', '1111', '0000', '0000', '0000', '1111', '0000', '1111', '0000', '1111', '1111', '1111', '0000', '0000', '0000', '1111', '0000', '0000', '1111', '1111', '1111', '0000', '1111', '1111', '1111', '1111', '1111', '1111', '0000', '0000', '0000', '1111', '0000', '0000', '0000', '1111', '0000', '0000', '1111', '0000', '1111', '0000', '0000', '1111', '1111', '0000', '1111', '1111', '1111', '1111', '0000', '0000', '1111', '1111', '1111', '0000', '1111', '0000', '1111', '1111', '0000', '1111', '1111', '1111', '1111', '1111', '1111', '1111', '0000', '0000', '1111', '1111', '0000', '1111', '0000', '1111', '1111', '0000', '1111', '0000', '1111', '0000', '0000', '0000', '0000', '0000', '1111', '1111', '0000', '0000', '0000', '1111', '1111', '1111', '0000', '0000', '0000', '1111', '0000', '0000', '0000', '1111', '1111', '1111', '1111', '1111', '0000', '1111', '0000', '0000', '0000', '0000', '0000', '1111', '0000', '1111', '1111', '1111', '0000', '0000', '1111', '1111', '0000', '0000', '0000', '1111', '1111', '0000', '0000', '0000', '1111', '1111', '0000', '0000', '0000', '1111', '0000', '1111', '0000', '0000', '1111', '0000', '1111', '1111', '1111', '1111', '1111', '1111', '1111', '0000', '0000', '0000', '1111', '0000', '0000', '1111', '0000', '0000', '1111', '1111', '0000', '0000', '1111', '1111', '1111', '1111', '1111', '1111', '1111', '1111', '0000', '0000', '0000', '1111', '1111', '0000', '1111', '1111', '1111', '0000', '0000', '0000']\n"
     ]
    },
    {
     "data": {
      "image/png": "[encoded data removed]",
      "text/plain": [
       "<Figure size 504x360 with 1 Axes>"
      ]
     },
     "execution_count": 4,
     "metadata": {},
     "output_type": "execute_result"
    }
   ],
   "source": [
    "\n",
    "#use a real backend\n",
    "backend = provider.get_backend('ibmq_qasm_simulator')\n",
    "\n",
    "#check if this backend supports memory\n",
    "if backend.configuration().memory :\n",
    "    print(backend.name() + \" supports memory to see invidual results.\")\n",
    "else:\n",
    "    print(backend.name() + \" does not support individual results... defaulting to ourense\")\n",
    "    \n",
    "    \n",
    "shots = 1024\n",
    "job = execute(qc, backend, shots=shots, memory=True)\n",
    "\n",
    "#we want to see results independently, instead of as a probability\n",
    "result = job.result()\n",
    "memory = result.get_memory()\n",
    "\n",
    "# need an array to drop all the results into\n",
    "outputArray = []\n",
    "\n",
    "#convert results to int and drop into array\n",
    "for x in range(0, shots):\n",
    "#     converted = int(memory[x], 2)\n",
    "    outputArray.append(memory[x])\n",
    "    \n",
    "print(outputArray)\n",
    "\n",
    "plot_histogram(job.result().get_counts())"
   ]
  },
  {
   "cell_type": "code",
   "execution_count": null,
   "id": "690828d9",
   "metadata": {},
   "outputs": [],
   "source": []
  }
 ],
 "metadata": {
  "kernelspec": {
   "display_name": "Python 3.9.13 64-bit",
   "language": "python",
   "name": "python3"
  },
  "language_info": {
   "codemirror_mode": {
    "name": "ipython",
    "version": 3
   },
   "file_extension": ".py",
   "mimetype": "text/x-python",
   "name": "python",
   "nbconvert_exporter": "python",
   "pygments_lexer": "ipython3",
   "version": "3.9.13"
  },
  "vscode": {
   "interpreter": {
    "hash": "aee8b7b246df8f9039afb4144a1f6fd8d2ca17a180786b69acc140d282b71a49"
   }
  }
 },
 "nbformat": 4,
 "nbformat_minor": 5
}
