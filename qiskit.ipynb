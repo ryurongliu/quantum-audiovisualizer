{
 "cells": [
  {
   "cell_type": "code",
   "execution_count": 12,
   "id": "f48e1da8",
   "metadata": {
    "scrolled": true
   },
   "outputs": [
    {
     "name": "stderr",
     "output_type": "stream",
     "text": [
      "configrc.store_credentials:WARNING:2022-10-15 21:16:40,777: Credentials already present. Set overwrite=True to overwrite.\n",
      "ibmqfactory.load_account:WARNING:2022-10-15 21:16:41,013: Credentials are already in use. The existing account in the session will be replaced.\n"
     ]
    }
   ],
   "source": [
    "%matplotlib inline\n",
    "# Importing standard Qiskit libraries and configuring account\n",
    "from qiskit import QuantumCircuit, execute, Aer, IBMQ\n",
    "from qiskit.compiler import transpile, assemble\n",
    "from qiskit.tools.jupyter import *\n",
    "from qiskit.visualization import *\n",
    "# Loading your IBM Q account(s)\n",
    "\n",
    "###################\n",
    "# ENTER IBM API KEY\n",
    "# IBMQ.save_account(\"\")\n",
    "###################\n",
    "\n",
    "provider = IBMQ.load_account()\n",
    "\n",
    "##################\n",
    "# SWAP BACKEND\n",
    "# provider = IBMQ.get_provider(hub='ibm-q', group='open', project='main')\n",
    "##################\n",
    "\n",
    "provider = IBMQ.get_provider(hub='ibm-q-education', group='thenewschool-1', project='tns2022')"
   ]
  },
  {
   "cell_type": "code",
   "execution_count": 13,
   "id": "8521dead",
   "metadata": {},
   "outputs": [],
   "source": [
    "qc = QuantumCircuit(4, 4)\n",
    "qc.h(0)\n",
    "qc.cx(0, 1)\n",
    "qc.cx(1, 2)\n",
    "qc.cx(2, 3)\n",
    "qc.measure([0, 1, 2, 3], [0, 1, 2, 3])\n",
    "qc.draw();"
   ]
  },
  {
   "cell_type": "code",
   "execution_count": 14,
   "id": "44f5d6eb",
   "metadata": {},
   "outputs": [
    {
     "name": "stdout",
     "output_type": "stream",
     "text": [
      "ibmq_jakarta supports memory to see invidual results.\n",
      "['1100', '1110', '0000', '0000', '0000', '1111', '0000', '1111', '1111', '0000', '1111', '1111', '0000', '0000', '0000', '1111', '0001', '1111', '1111', '0111', '1111', '1111', '0000', '1111', '1000', '0000', '0000', '0000', '1111', '1110', '0000', '1111', '1111', '0000', '0000', '0000', '0000', '1111', '1111', '0000', '0000', '0001', '0000', '0111', '0110', '0111', '1111', '1111', '0000', '0000', '1111', '0000', '0000', '0001', '0000', '0000', '0000', '1111', '0000', '0000', '0000', '1111', '0000', '0000', '1111', '1111', '1111', '0000', '0000', '1111', '1110', '0000', '0000', '0001', '1111', '0011', '1111', '0000', '0100', '0000', '0000', '0111', '1111', '1101', '1011', '0010', '0000', '1111', '0000', '0000', '0111', '0000', '1111', '1111', '0000', '0000', '1111', '0000', '0000', '0000', '0000', '1111', '1111', '0000', '0000', '0000', '0000', '1111', '0000', '1111', '0001', '0001', '1001', '0000', '0000', '1101', '1111', '0000', '0000', '0000', '1111', '0111', '0000', '0000', '1100', '0000', '1111', '1111', '0000', '0000', '1111', '0000', '0000', '1110', '1111', '1011', '0000', '0000', '0000', '1101', '0000', '0000', '0111', '0000', '0111', '0000', '0000', '1111', '1111', '0100', '0010', '0000', '0000', '0000', '1111', '0000', '0010', '0000', '1111', '0000', '0001', '1111', '0000', '0111', '0001', '0001', '0000', '0000', '1111', '0000', '0000', '1111', '0000', '1111', '1011', '0001', '1111', '0000', '0000', '1111', '1110', '0111', '0000', '0000', '1111', '1111', '1111', '0000', '0000', '0000', '0000', '1111', '0001', '1111', '1111', '0000', '0000', '1111', '0000', '1111', '0000', '1111', '1111', '1111', '0000', '0000', '1111', '0000', '1011', '0000', '0001', '0000', '1111', '0111', '1111', '1111', '1111', '0000', '0000', '0000', '1111', '1110', '0000', '1111', '0000', '1111', '0000', '0000', '1111', '1111', '1000', '1111', '1111', '1110', '1111', '0000', '0000', '1111', '0000', '0000', '1111', '0000', '0000', '0000', '0000', '1111', '1111', '1111', '0111', '1111', '0000', '0000', '1111', '0111', '0000', '1111', '0000', '0000', '0000', '1111', '0001', '1111', '1111', '1111', '1111', '0000', '1111', '1111', '0000', '0000', '1111', '0000', '0111', '1111', '1111', '0000', '0000', '1111', '1111', '1111', '1101', '1111', '0001', '1110', '1111', '0000', '1111', '0000', '1111', '0000', '0000', '1111', '0000', '1111', '0000', '1111', '1111', '1111', '1111', '1101', '0111', '0001', '0000', '1111', '0000', '0000', '1111', '0000', '1111', '0000', '0000', '1111', '1111', '1111', '1111', '0000', '1111', '0011', '0000', '0001', '1111', '1111', '0000', '0000', '0000', '1111', '0001', '0000', '1111', '0111', '0000', '0000', '0000', '0000', '1110', '1111', '0000', '0000', '0111', '0000', '0111', '1111', '1111', '1111', '0000', '1111', '1111', '1111', '1110', '1110', '0001', '1111', '0111', '0000', '0000', '0000', '1111', '1111', '0000', '0000', '0000', '1111', '0111', '0000', '1111', '0000', '0000', '0000', '0001', '1111', '0100', '1111', '1111', '1111', '0000', '1111', '0000', '0011', '0001', '1111', '1111', '0000', '0000', '0000', '0000', '1111', '0000', '0000', '0111', '0111', '1111', '0000', '0111', '1111', '1111', '1111', '1111', '1111', '1111', '0111', '0000', '0000', '1110', '1111', '0111', '0000', '0001', '0000', '0000', '0000', '0000', '1111', '0000', '1111', '1111', '1111', '1111', '1111', '0000', '0000', '1111', '0000', '1111', '1111', '0000', '0000', '0000', '0000', '0000', '1111', '0000', '0000', '1111', '0011', '0000', '0000', '0010', '0111', '1111', '0000', '0000', '0000', '0000', '0000', '0000', '1111', '1111', '0000', '1111', '1111', '0000', '1111', '0000', '1110', '0001', '0000', '0000', '1111', '1111', '1101', '0111', '1111', '0001', '0111', '1111', '1111', '0111', '0000', '1111', '0000', '0000', '0000', '0111', '0001', '1111', '0000', '0000', '0000', '0000', '0000', '0000', '1111', '0000', '0000', '0000', '1111', '0000', '0000', '1100', '1111', '0010', '0000', '0000', '1111', '0000', '1111', '1000', '0000', '1110', '1111', '1110', '1111', '0000', '1111', '0000', '1111', '0000', '0111', '1111', '0111', '1111', '1110', '1111', '0000', '0000', '1101', '1111', '0111', '1111', '1111', '0000', '1111', '0000', '1110', '0000', '0000', '0000', '0111', '1111', '1111', '0000', '1111', '1111', '1100', '0000', '0000', '0000', '1111', '0000', '0000', '0000', '0000', '0000', '1110', '0001', '1111', '0001', '1011', '0000', '0000', '0000', '1111', '1111', '0000', '1111', '1110', '0111', '1111', '1111', '1111', '1111', '1111', '0010', '1111', '1111', '0000', '1100', '1111', '0111', '0000', '0000', '1111', '1111', '0000', '0000', '0000', '1111', '1111', '1111', '1111', '0111', '0000', '0111', '0000', '1111', '1111', '1111', '1111', '0111', '0000', '0000', '0000', '1111', '0000', '0000', '1111', '0000', '1111', '1111', '1110', '0000', '1111', '0000', '1111', '0000', '0111', '0000', '0000', '0000', '0000', '1111', '1111', '1111', '0000', '1100', '0000', '0000', '1111', '1111', '1111', '0000', '0111', '1011', '0011', '0000', '0000', '0000', '1111', '0001', '0000', '0000', '0000', '0000', '1111', '1111', '0000', '0000', '0000', '0000', '1110', '1111', '0000', '1110', '0000', '0000', '1111', '1111', '0111', '0000', '0000', '0000', '0000', '1111', '0111', '0000', '1111', '0000', '0000', '0000', '1111', '1111', '0000', '0000', '0000', '1111', '0000', '0111', '0000', '0111', '0001', '0001', '0000', '0000', '0000', '0001', '1111', '1111', '0000', '1110', '0000', '1111', '1011', '1111', '0000', '0000', '0000', '0000', '0000', '0111', '0000', '1111', '0000', '0000', '1111', '0000', '0000', '1111', '0110', '0000', '0000', '1111', '0111', '1111', '1111', '1111', '0000', '0000', '1110', '0000', '1111', '0000', '1111', '0111', '1011', '0000', '0000', '1111', '0000', '1111', '0111', '0000', '1111', '1111', '0000', '0111', '1111', '0000', '0111', '0000', '0111', '0000', '1111', '0000', '0000', '1111', '1111', '1111', '1111', '1111', '0000', '1111', '0000', '0000', '1101', '1111', '0000', '1000', '0000', '0000', '1111', '1111', '0000', '0000', '1111', '1111', '1111', '1100', '1111', '1111', '0000', '0000', '0000', '0000', '1111', '1111', '0000', '0000', '0000', '0000', '0000', '0000', '1111', '0000', '1111', '0000', '0000', '0000', '1111', '0000', '1111', '1111', '1111', '0000', '1111', '1111', '0000', '1111', '0000', '1111', '0000', '0000', '1111', '1111', '0000', '1100', '1111', '0000', '1111', '0000', '0000', '0000', '0000', '0000', '1111', '1111', '0000', '1111', '0001', '0000', '1111', '0000', '1011', '1111', '1111', '0000', '0000', '1111', '0001', '0000', '0000', '0000', '0000', '1000', '1111', '1111', '1111', '1111', '0000', '0000', '0000', '0000', '1111', '1111', '0000', '0000', '0000', '0000', '1111', '1111', '1111', '0000', '0000', '1111', '0000', '1111', '1111', '0000', '0000', '0111', '1111', '0000', '1111', '1111', '1111', '0000', '0000', '0000', '0111', '0000', '0000', '0000', '0000', '0111', '0000', '0000', '0010', '0000', '1000', '1111', '1111', '1111', '1111', '1111', '0000', '0000', '1111', '0000', '0000', '1101', '0000', '0111', '1111', '0000', '1111', '0000', '0000', '0000', '1111', '1111', '0000', '1111', '0111', '1111', '0000', '0000', '0000', '0000', '1111', '0000', '1110', '1111', '1111', '1111', '1111', '1111', '0000', '0001', '0000', '0000', '0000', '1111', '1011', '0000', '0000', '1111', '0111', '0000', '0000', '0000', '0000', '1101', '0000', '1111', '0000', '0000', '1101', '1111', '1111', '1011', '1111', '1111', '1111', '0000', '0111', '1111', '0000', '0000', '0000', '0000', '0000', '0000', '0000', '1111', '0000', '1011', '0010', '0000', '0000', '0000', '0000', '0000', '1111', '0000', '0000', '0000', '0000', '0000', '1111', '0000', '0000', '0000', '1111', '1111', '0000', '1111', '1111', '1111', '1111', '1111', '0000', '1111', '1111', '1111', '0000', '1111', '1111', '1111', '1111', '1111', '1001', '0000', '1111', '1111', '1101', '0000', '1111', '0111', '0000', '1111', '0000', '0000', '0000', '0111', '0000', '0000', '0000', '1111', '1111', '1111', '0111', '1111', '1111', '0000', '1111', '1101', '0000', '0000', '1111', '1111', '1110', '0000', '1111', '1111', '0000', '0000', '1111', '0111', '1111', '1111', '0111', '0111', '0000', '0000', '0000']\n"
     ]
    },
    {
     "data": {
      "image/png": "[encoded data removed]",
      "text/plain": [
       "<Figure size 504x360 with 1 Axes>"
      ]
     },
     "execution_count": 14,
     "metadata": {},
     "output_type": "execute_result"
    }
   ],
   "source": [
    "\n",
    "#use a real backend\n",
    "#backend = provider.get_backend('ibmq_qasm_simulator')\n",
    "backend = provider.get_backend('ibmq_jakarta')\n",
    "\n",
    "#check if this backend supports memory\n",
    "if backend.configuration().memory :\n",
    "    print(backend.name() + \" supports memory to see invidual results.\")\n",
    "else:\n",
    "    print(backend.name() + \" does not support individual results... defaulting to ourense\")\n",
    "    \n",
    "    \n",
    "shots = 1024\n",
    "job = execute(qc, backend, shots=shots, memory=True)\n",
    "\n",
    "#we want to see results independently, instead of as a probability\n",
    "result = job.result()\n",
    "memory = result.get_memory()\n",
    "\n",
    "# need an array to drop all the results into\n",
    "outputArray = []\n",
    "\n",
    "#convert results to int and drop into array\n",
    "for x in range(0, shots):\n",
    "#     converted = int(memory[x], 2)\n",
    "    outputArray.append(memory[x])\n",
    "    \n",
    "print(outputArray)\n",
    "\n",
    "plot_histogram(job.result().get_counts())"
   ]
  },
  {
   "cell_type": "code",
   "execution_count": 15,
   "id": "7f79877f",
   "metadata": {},
   "outputs": [],
   "source": [
    "import json\n",
    "with open(\"sample.json\", \"w\") as outfile:\n",
    "    json.dump(outputArray, outfile)"
   ]
  },
  {
   "cell_type": "code",
   "execution_count": 37,
   "id": "7d72e0af",
   "metadata": {},
   "outputs": [
    {
     "name": "stdout",
     "output_type": "stream",
     "text": [
      "[0.7692307692307693, 0.9230769230769231, 0.0, 0.0, 0.0, 1.0, 0.0, 1.0, 1.0, 0.0, 1.0, 1.0, 0.0, 0.0, 0.0, 1.0, 0.07692307692307693, 1.0, 1.0, 0.46153846153846156, 1.0, 1.0, 0.0, 1.0, 0.5384615384615384, 0.0, 0.0, 0.0, 1.0, 0.9230769230769231, 0.0, 1.0, 1.0, 0.0, 0.0, 0.0, 0.0, 1.0, 1.0, 0.0, 0.0, 0.07692307692307693, 0.0, 0.46153846153846156, 0.38461538461538464, 0.46153846153846156, 1.0, 1.0, 0.0, 0.0, 1.0, 0.0, 0.0, 0.07692307692307693, 0.0, 0.0, 0.0, 1.0, 0.0, 0.0, 0.0, 1.0, 0.0, 0.0, 1.0, 1.0, 1.0, 0.0, 0.0, 1.0, 0.9230769230769231, 0.0, 0.0, 0.07692307692307693, 1.0, 0.23076923076923078, 1.0, 0.0, 0.3076923076923077, 0.0, 0.0, 0.46153846153846156, 1.0, 0.8461538461538461, 0.6923076923076923, 0.15384615384615385, 0.0, 1.0, 0.0, 0.0, 0.46153846153846156, 0.0, 1.0, 1.0, 0.0, 0.0, 1.0, 0.0, 0.0, 0.0, 0.0, 1.0, 1.0, 0.0, 0.0, 0.0, 0.0, 1.0, 0.0, 1.0, 0.07692307692307693, 0.07692307692307693, 0.6153846153846154, 0.0, 0.0, 0.8461538461538461, 1.0, 0.0, 0.0, 0.0, 1.0, 0.46153846153846156, 0.0, 0.0, 0.7692307692307693, 0.0, 1.0, 1.0, 0.0, 0.0, 1.0, 0.0, 0.0, 0.9230769230769231, 1.0, 0.6923076923076923, 0.0, 0.0, 0.0, 0.8461538461538461, 0.0, 0.0, 0.46153846153846156, 0.0, 0.46153846153846156, 0.0, 0.0, 1.0, 1.0, 0.3076923076923077, 0.15384615384615385, 0.0, 0.0, 0.0, 1.0, 0.0, 0.15384615384615385, 0.0, 1.0, 0.0, 0.07692307692307693, 1.0, 0.0, 0.46153846153846156, 0.07692307692307693, 0.07692307692307693, 0.0, 0.0, 1.0, 0.0, 0.0, 1.0, 0.0, 1.0, 0.6923076923076923, 0.07692307692307693, 1.0, 0.0, 0.0, 1.0, 0.9230769230769231, 0.46153846153846156, 0.0, 0.0, 1.0, 1.0, 1.0, 0.0, 0.0, 0.0, 0.0, 1.0, 0.07692307692307693, 1.0, 1.0, 0.0, 0.0, 1.0, 0.0, 1.0, 0.0, 1.0, 1.0, 1.0, 0.0, 0.0, 1.0, 0.0, 0.6923076923076923, 0.0, 0.07692307692307693, 0.0, 1.0, 0.46153846153846156, 1.0, 1.0, 1.0, 0.0, 0.0, 0.0, 1.0, 0.9230769230769231, 0.0, 1.0, 0.0, 1.0, 0.0, 0.0, 1.0, 1.0, 0.5384615384615384, 1.0, 1.0, 0.9230769230769231, 1.0, 0.0, 0.0, 1.0, 0.0, 0.0, 1.0, 0.0, 0.0, 0.0, 0.0, 1.0, 1.0, 1.0, 0.46153846153846156, 1.0, 0.0, 0.0, 1.0, 0.46153846153846156, 0.0, 1.0, 0.0, 0.0, 0.0, 1.0, 0.07692307692307693, 1.0, 1.0, 1.0, 1.0, 0.0, 1.0, 1.0, 0.0, 0.0, 1.0, 0.0, 0.46153846153846156, 1.0, 1.0, 0.0, 0.0, 1.0, 1.0, 1.0, 0.8461538461538461, 1.0, 0.07692307692307693, 0.9230769230769231, 1.0, 0.0, 1.0, 0.0, 1.0, 0.0, 0.0, 1.0, 0.0, 1.0, 0.0, 1.0, 1.0, 1.0, 1.0, 0.8461538461538461, 0.46153846153846156, 0.07692307692307693, 0.0, 1.0, 0.0, 0.0, 1.0, 0.0, 1.0, 0.0, 0.0, 1.0, 1.0, 1.0, 1.0, 0.0, 1.0, 0.23076923076923078, 0.0, 0.07692307692307693, 1.0, 1.0, 0.0, 0.0, 0.0, 1.0, 0.07692307692307693, 0.0, 1.0, 0.46153846153846156, 0.0, 0.0, 0.0, 0.0, 0.9230769230769231, 1.0, 0.0, 0.0, 0.46153846153846156, 0.0, 0.46153846153846156, 1.0, 1.0, 1.0, 0.0, 1.0, 1.0, 1.0, 0.9230769230769231, 0.9230769230769231, 0.07692307692307693, 1.0, 0.46153846153846156, 0.0, 0.0, 0.0, 1.0, 1.0, 0.0, 0.0, 0.0, 1.0, 0.46153846153846156, 0.0, 1.0, 0.0, 0.0, 0.0, 0.07692307692307693, 1.0, 0.3076923076923077, 1.0, 1.0, 1.0, 0.0, 1.0, 0.0, 0.23076923076923078, 0.07692307692307693, 1.0, 1.0, 0.0, 0.0, 0.0, 0.0, 1.0, 0.0, 0.0, 0.46153846153846156, 0.46153846153846156, 1.0, 0.0, 0.46153846153846156, 1.0, 1.0, 1.0, 1.0, 1.0, 1.0, 0.46153846153846156, 0.0, 0.0, 0.9230769230769231, 1.0, 0.46153846153846156, 0.0, 0.07692307692307693, 0.0, 0.0, 0.0, 0.0, 1.0, 0.0, 1.0, 1.0, 1.0, 1.0, 1.0, 0.0, 0.0, 1.0, 0.0, 1.0, 1.0, 0.0, 0.0, 0.0, 0.0, 0.0, 1.0, 0.0, 0.0, 1.0, 0.23076923076923078, 0.0, 0.0, 0.15384615384615385, 0.46153846153846156, 1.0, 0.0, 0.0, 0.0, 0.0, 0.0, 0.0, 1.0, 1.0, 0.0, 1.0, 1.0, 0.0, 1.0, 0.0, 0.9230769230769231, 0.07692307692307693, 0.0, 0.0, 1.0, 1.0, 0.8461538461538461, 0.46153846153846156, 1.0, 0.07692307692307693, 0.46153846153846156, 1.0, 1.0, 0.46153846153846156, 0.0, 1.0, 0.0, 0.0, 0.0, 0.46153846153846156, 0.07692307692307693, 1.0, 0.0, 0.0, 0.0, 0.0, 0.0, 0.0, 1.0, 0.0, 0.0, 0.0, 1.0, 0.0, 0.0, 0.7692307692307693, 1.0, 0.15384615384615385, 0.0, 0.0, 1.0, 0.0, 1.0, 0.5384615384615384, 0.0, 0.9230769230769231, 1.0, 0.9230769230769231, 1.0, 0.0, 1.0, 0.0, 1.0, 0.0, 0.46153846153846156, 1.0, 0.46153846153846156, 1.0, 0.9230769230769231, 1.0, 0.0, 0.0, 0.8461538461538461, 1.0, 0.46153846153846156, 1.0, 1.0, 0.0, 1.0, 0.0, 0.9230769230769231, 0.0, 0.0, 0.0, 0.46153846153846156, 1.0, 1.0, 0.0, 1.0, 1.0, 0.7692307692307693, 0.0, 0.0, 0.0, 1.0, 0.0, 0.0, 0.0, 0.0, 0.0, 0.9230769230769231, 0.07692307692307693, 1.0, 0.07692307692307693, 0.6923076923076923, 0.0, 0.0, 0.0, 1.0, 1.0, 0.0, 1.0, 0.9230769230769231, 0.46153846153846156, 1.0, 1.0, 1.0, 1.0, 1.0, 0.15384615384615385, 1.0, 1.0, 0.0, 0.7692307692307693, 1.0, 0.46153846153846156, 0.0, 0.0, 1.0, 1.0, 0.0, 0.0, 0.0, 1.0, 1.0, 1.0, 1.0, 0.46153846153846156, 0.0, 0.46153846153846156, 0.0, 1.0, 1.0, 1.0, 1.0, 0.46153846153846156, 0.0, 0.0, 0.0, 1.0, 0.0, 0.0, 1.0, 0.0, 1.0, 1.0, 0.9230769230769231, 0.0, 1.0, 0.0, 1.0, 0.0, 0.46153846153846156, 0.0, 0.0, 0.0, 0.0, 1.0, 1.0, 1.0, 0.0, 0.7692307692307693, 0.0, 0.0, 1.0, 1.0, 1.0, 0.0, 0.46153846153846156, 0.6923076923076923, 0.23076923076923078, 0.0, 0.0, 0.0, 1.0, 0.07692307692307693, 0.0, 0.0, 0.0, 0.0, 1.0, 1.0, 0.0, 0.0, 0.0, 0.0, 0.9230769230769231, 1.0, 0.0, 0.9230769230769231, 0.0, 0.0, 1.0, 1.0, 0.46153846153846156, 0.0, 0.0, 0.0, 0.0, 1.0, 0.46153846153846156, 0.0, 1.0, 0.0, 0.0, 0.0, 1.0, 1.0, 0.0, 0.0, 0.0, 1.0, 0.0, 0.46153846153846156, 0.0, 0.46153846153846156, 0.07692307692307693, 0.07692307692307693, 0.0, 0.0, 0.0, 0.07692307692307693, 1.0, 1.0, 0.0, 0.9230769230769231, 0.0, 1.0, 0.6923076923076923, 1.0, 0.0, 0.0, 0.0, 0.0, 0.0, 0.46153846153846156, 0.0, 1.0, 0.0, 0.0, 1.0, 0.0, 0.0, 1.0, 0.38461538461538464, 0.0, 0.0, 1.0, 0.46153846153846156, 1.0, 1.0, 1.0, 0.0, 0.0, 0.9230769230769231, 0.0, 1.0, 0.0, 1.0, 0.46153846153846156, 0.6923076923076923, 0.0, 0.0, 1.0, 0.0, 1.0, 0.46153846153846156, 0.0, 1.0, 1.0, 0.0, 0.46153846153846156, 1.0, 0.0, 0.46153846153846156, 0.0, 0.46153846153846156, 0.0, 1.0, 0.0, 0.0, 1.0, 1.0, 1.0, 1.0, 1.0, 0.0, 1.0, 0.0, 0.0, 0.8461538461538461, 1.0, 0.0, 0.5384615384615384, 0.0, 0.0, 1.0, 1.0, 0.0, 0.0, 1.0, 1.0, 1.0, 0.7692307692307693, 1.0, 1.0, 0.0, 0.0, 0.0, 0.0, 1.0, 1.0, 0.0, 0.0, 0.0, 0.0, 0.0, 0.0, 1.0, 0.0, 1.0, 0.0, 0.0, 0.0, 1.0, 0.0, 1.0, 1.0, 1.0, 0.0, 1.0, 1.0, 0.0, 1.0, 0.0, 1.0, 0.0, 0.0, 1.0, 1.0, 0.0, 0.7692307692307693, 1.0, 0.0, 1.0, 0.0, 0.0, 0.0, 0.0, 0.0, 1.0, 1.0, 0.0, 1.0, 0.07692307692307693, 0.0, 1.0, 0.0, 0.6923076923076923, 1.0, 1.0, 0.0, 0.0, 1.0, 0.07692307692307693, 0.0, 0.0, 0.0, 0.0, 0.5384615384615384, 1.0, 1.0, 1.0, 1.0, 0.0, 0.0, 0.0, 0.0, 1.0, 1.0, 0.0, 0.0, 0.0, 0.0, 1.0, 1.0, 1.0, 0.0, 0.0, 1.0, 0.0, 1.0, 1.0, 0.0, 0.0, 0.46153846153846156, 1.0, 0.0, 1.0, 1.0, 1.0, 0.0, 0.0, 0.0, 0.46153846153846156, 0.0, 0.0, 0.0, 0.0, 0.46153846153846156, 0.0, 0.0, 0.15384615384615385, 0.0, 0.5384615384615384, 1.0, 1.0, 1.0, 1.0, 1.0, 0.0, 0.0, 1.0, 0.0, 0.0, 0.8461538461538461, 0.0, 0.46153846153846156, 1.0, 0.0, 1.0, 0.0, 0.0, 0.0, 1.0, 1.0, 0.0, 1.0, 0.46153846153846156, 1.0, 0.0, 0.0, 0.0, 0.0, 1.0, 0.0, 0.9230769230769231, 1.0, 1.0, 1.0, 1.0, 1.0, 0.0, 0.07692307692307693, 0.0, 0.0, 0.0, 1.0, 0.6923076923076923, 0.0, 0.0, 1.0, 0.46153846153846156, 0.0, 0.0, 0.0, 0.0, 0.8461538461538461, 0.0, 1.0, 0.0, 0.0, 0.8461538461538461, 1.0, 1.0, 0.6923076923076923, 1.0, 1.0, 1.0, 0.0, 0.46153846153846156, 1.0, 0.0, 0.0, 0.0, 0.0, 0.0, 0.0, 0.0, 1.0, 0.0, 0.6923076923076923, 0.15384615384615385, 0.0, 0.0, 0.0, 0.0, 0.0, 1.0, 0.0, 0.0, 0.0, 0.0, 0.0, 1.0, 0.0, 0.0, 0.0, 1.0, 1.0, 0.0, 1.0, 1.0, 1.0, 1.0, 1.0, 0.0, 1.0, 1.0, 1.0, 0.0, 1.0, 1.0, 1.0, 1.0, 1.0, 0.6153846153846154, 0.0, 1.0, 1.0, 0.8461538461538461, 0.0, 1.0, 0.46153846153846156, 0.0, 1.0, 0.0, 0.0, 0.0, 0.46153846153846156, 0.0, 0.0, 0.0, 1.0, 1.0, 1.0, 0.46153846153846156, 1.0, 1.0, 0.0, 1.0, 0.8461538461538461, 0.0, 0.0, 1.0, 1.0, 0.9230769230769231, 0.0, 1.0, 1.0, 0.0, 0.0, 1.0, 0.46153846153846156, 1.0, 1.0, 0.46153846153846156, 0.46153846153846156, 0.0, 0.0, 0.0]\n"
     ]
    }
   ],
   "source": [
    "list = outputArray\n",
    "\n",
    "\n",
    "for i in range(len(list)):\n",
    "    if list[i] == '0000':\n",
    "        newValue = 1\n",
    "    if list[i] == '0001':\n",
    "        newValue = 2\n",
    "    if list[i] == '0010':\n",
    "        newValue = 3\n",
    "    if list[i] == '0011':\n",
    "        newValue = 4\n",
    "    if list[i] == '0100':\n",
    "        newValue = 5\n",
    "    if list[i] == '0110':\n",
    "        newValue = 6\n",
    "    if list[i] == '0111':\n",
    "        newValue = 7\n",
    "    if list[i] == '1000':\n",
    "        newValue = 8\n",
    "    if list[i] == '1001':\n",
    "        newValue = 9\n",
    "    if list[i] == '1011':\n",
    "        newValue = 10\n",
    "    if list[i] == '1100':\n",
    "        newValue = 11\n",
    "    if list[i] == '1101':\n",
    "        newValue = 12\n",
    "    if list[i] == '1110':\n",
    "        newValue = 13\n",
    "    if list[i] == '1111':\n",
    "        newValue = 14\n",
    "        \n",
    "        \n",
    "    leftMax = 14\n",
    "    leftMin = 1\n",
    "    rightMax = 1\n",
    "    rightMin = 0\n",
    "    \n",
    "    leftSpan = leftMax - leftMin\n",
    "    rightSpan = rightMax - rightMin\n",
    "    \n",
    "    valueScaled = float(newValue-leftMin)/float(leftSpan)\n",
    "    list[i] = valueScaled\n",
    "    \n",
    "print(list)    \n"
   ]
  },
  {
   "cell_type": "code",
   "execution_count": 38,
   "id": "c95c4ad1",
   "metadata": {},
   "outputs": [],
   "source": [
    "with open(\"normalized.json\", \"w\") as outfile:\n",
    "    json.dump(outputArray, outfile)"
   ]
  },
  {
   "cell_type": "code",
   "execution_count": null,
   "id": "d59c0483",
   "metadata": {},
   "outputs": [],
   "source": []
  }
 ],
 "metadata": {
  "kernelspec": {
   "display_name": "Python 3 (ipykernel)",
   "language": "python",
   "name": "python3"
  },
  "language_info": {
   "codemirror_mode": {
    "name": "ipython",
    "version": 3
   },
   "file_extension": ".py",
   "mimetype": "text/x-python",
   "name": "python",
   "nbconvert_exporter": "python",
   "pygments_lexer": "ipython3",
   "version": "3.9.12"
  }
 },
 "nbformat": 4,
 "nbformat_minor": 5
}
